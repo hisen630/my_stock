{
 "cells": [
  {
   "cell_type": "code",
   "execution_count": 5,
   "metadata": {
    "collapsed": true
   },
   "outputs": [],
   "source": [
    "import time"
   ]
  },
  {
   "cell_type": "code",
   "execution_count": 18,
   "metadata": {
    "collapsed": false
   },
   "outputs": [],
   "source": [
    "ISOTIMEFORMAT='%Y-%m-%d %X'\n",
    "\n",
    "ut = time.strftime( ISOTIMEFORMAT, time.localtime() )"
   ]
  },
  {
   "cell_type": "code",
   "execution_count": 1,
   "metadata": {
    "collapsed": true
   },
   "outputs": [],
   "source": [
    "import tushare as ts"
   ]
  },
  {
   "cell_type": "code",
   "execution_count": 74,
   "metadata": {
    "collapsed": true
   },
   "outputs": [],
   "source": [
    "basics = ts.get_stock_basics()"
   ]
  },
  {
   "cell_type": "code",
   "execution_count": 75,
   "metadata": {
    "collapsed": false
   },
   "outputs": [
    {
     "data": {
      "text/plain": [
       "(2780, 15)"
      ]
     },
     "execution_count": 75,
     "metadata": {},
     "output_type": "execute_result"
    }
   ],
   "source": [
    "basics.shape"
   ]
  },
  {
   "cell_type": "code",
   "execution_count": 62,
   "metadata": {
    "collapsed": false
   },
   "outputs": [
    {
     "data": {
      "text/plain": [
       "'19970520'"
      ]
     },
     "execution_count": 62,
     "metadata": {},
     "output_type": "execute_result"
    }
   ],
   "source": [
    "str(basics.ix['600077']['timeToMarket'])"
   ]
  },
  {
   "cell_type": "code",
   "execution_count": 29,
   "metadata": {
    "collapsed": false
   },
   "outputs": [],
   "source": [
    "basics.insert(0,\"update_time\",ut,True)"
   ]
  },
  {
   "cell_type": "code",
   "execution_count": 44,
   "metadata": {
    "collapsed": true
   },
   "outputs": [],
   "source": [
    "import pandas as pd"
   ]
  },
  {
   "cell_type": "code",
   "execution_count": 78,
   "metadata": {
    "collapsed": false
   },
   "outputs": [],
   "source": [
    "df1 = pd.DataFrame()"
   ]
  },
  {
   "cell_type": "code",
   "execution_count": 79,
   "metadata": {
    "collapsed": false
   },
   "outputs": [
    {
     "data": {
      "text/plain": [
       "'1.45'"
      ]
     },
     "execution_count": 79,
     "metadata": {},
     "output_type": "execute_result"
    }
   ],
   "source": [
    "'%.2f'%(1.445)"
   ]
  },
  {
   "cell_type": "code",
   "execution_count": 87,
   "metadata": {
    "collapsed": false
   },
   "outputs": [
    {
     "ename": "TypeError",
     "evalue": "get_hist_data() got an unexpected keyword argument 'autype'",
     "output_type": "error",
     "traceback": [
      "\u001b[1;31m---------------------------------------------------------------------------\u001b[0m",
      "\u001b[1;31mTypeError\u001b[0m                                 Traceback (most recent call last)",
      "\u001b[1;32m<ipython-input-87-69b56f70b1d2>\u001b[0m in \u001b[0;36m<module>\u001b[1;34m()\u001b[0m\n\u001b[1;32m----> 1\u001b[1;33m \u001b[0mdf2\u001b[0m \u001b[1;33m=\u001b[0m \u001b[0mts\u001b[0m\u001b[1;33m.\u001b[0m\u001b[0mget_hist_data\u001b[0m\u001b[1;33m(\u001b[0m\u001b[1;34m'000001'\u001b[0m\u001b[1;33m,\u001b[0m\u001b[0mstart\u001b[0m\u001b[1;33m=\u001b[0m\u001b[1;34m'2015-11-20'\u001b[0m\u001b[1;33m,\u001b[0m\u001b[0mend\u001b[0m\u001b[1;33m=\u001b[0m\u001b[1;34m'2015-11-20'\u001b[0m\u001b[1;33m,\u001b[0m\u001b[0mautype\u001b[0m\u001b[1;33m=\u001b[0m\u001b[1;34m'hfq'\u001b[0m\u001b[1;33m)\u001b[0m\u001b[1;33m\u001b[0m\u001b[0m\n\u001b[0m\u001b[0;32m      2\u001b[0m \u001b[0mdf2\u001b[0m\u001b[1;33m\u001b[0m\u001b[0m\n",
      "\u001b[1;31mTypeError\u001b[0m: get_hist_data() got an unexpected keyword argument 'autype'"
     ]
    }
   ],
   "source": [
    "df2 = ts.get_h_data('000001',start='2015-11-20',end='2015-11-20',autype='hfq')\n",
    "df2"
   ]
  },
  {
   "cell_type": "code",
   "execution_count": 93,
   "metadata": {
    "collapsed": false
   },
   "outputs": [
    {
     "name": "stdout",
     "output_type": "stream",
     "text": [
      "[Getting data:]####"
     ]
    },
    {
     "data": {
      "text/html": [
       "<div>\n",
       "<table border=\"1\" class=\"dataframe\">\n",
       "  <thead>\n",
       "    <tr style=\"text-align: right;\">\n",
       "      <th></th>\n",
       "      <th>open</th>\n",
       "      <th>high</th>\n",
       "      <th>close</th>\n",
       "      <th>low</th>\n",
       "      <th>volume</th>\n",
       "      <th>amount</th>\n",
       "    </tr>\n",
       "    <tr>\n",
       "      <th>date</th>\n",
       "      <th></th>\n",
       "      <th></th>\n",
       "      <th></th>\n",
       "      <th></th>\n",
       "      <th></th>\n",
       "      <th></th>\n",
       "    </tr>\n",
       "  </thead>\n",
       "  <tbody>\n",
       "    <tr>\n",
       "      <th>2015-09-30</th>\n",
       "      <td>11.20</td>\n",
       "      <td>11.44</td>\n",
       "      <td>11.23</td>\n",
       "      <td>11.05</td>\n",
       "      <td>30891062</td>\n",
       "      <td>346557344</td>\n",
       "    </tr>\n",
       "    <tr>\n",
       "      <th>2015-09-29</th>\n",
       "      <td>11.30</td>\n",
       "      <td>11.39</td>\n",
       "      <td>11.07</td>\n",
       "      <td>11.00</td>\n",
       "      <td>32921716</td>\n",
       "      <td>367696416</td>\n",
       "    </tr>\n",
       "    <tr>\n",
       "      <th>2015-09-28</th>\n",
       "      <td>11.59</td>\n",
       "      <td>11.69</td>\n",
       "      <td>11.51</td>\n",
       "      <td>11.31</td>\n",
       "      <td>29705536</td>\n",
       "      <td>341980576</td>\n",
       "    </tr>\n",
       "    <tr>\n",
       "      <th>2015-09-25</th>\n",
       "      <td>11.93</td>\n",
       "      <td>12.01</td>\n",
       "      <td>11.41</td>\n",
       "      <td>11.27</td>\n",
       "      <td>50924896</td>\n",
       "      <td>592532928</td>\n",
       "    </tr>\n",
       "    <tr>\n",
       "      <th>2015-09-24</th>\n",
       "      <td>12.00</td>\n",
       "      <td>12.15</td>\n",
       "      <td>12.04</td>\n",
       "      <td>11.76</td>\n",
       "      <td>54467984</td>\n",
       "      <td>650279936</td>\n",
       "    </tr>\n",
       "  </tbody>\n",
       "</table>\n",
       "</div>"
      ],
      "text/plain": [
       "             open   high  close    low    volume     amount\n",
       "date                                                       \n",
       "2015-09-30  11.20  11.44  11.23  11.05  30891062  346557344\n",
       "2015-09-29  11.30  11.39  11.07  11.00  32921716  367696416\n",
       "2015-09-28  11.59  11.69  11.51  11.31  29705536  341980576\n",
       "2015-09-25  11.93  12.01  11.41  11.27  50924896  592532928\n",
       "2015-09-24  12.00  12.15  12.04  11.76  54467984  650279936"
      ]
     },
     "execution_count": 93,
     "metadata": {},
     "output_type": "execute_result"
    }
   ],
   "source": [
    "df = ts.get_h_data('601727').sort_index(ascending=False).head()\n",
    "df"
   ]
  },
  {
   "cell_type": "code",
   "execution_count": 91,
   "metadata": {
    "collapsed": true
   },
   "outputs": [],
   "source": [
    "df.sort_index?"
   ]
  },
  {
   "cell_type": "code",
   "execution_count": 82,
   "metadata": {
    "collapsed": false
   },
   "outputs": [
    {
     "data": {
      "text/plain": [
       "True"
      ]
     },
     "execution_count": 82,
     "metadata": {},
     "output_type": "execute_result"
    }
   ],
   "source": [
    "float(df['high'])==0"
   ]
  },
  {
   "cell_type": "code",
   "execution_count": 73,
   "metadata": {
    "collapsed": false
   },
   "outputs": [
    {
     "data": {
      "text/plain": [
       "Index([u'name', u'open', u'pre_close', u'price', u'high', u'low', u'bid',\n",
       "       u'ask', u'volume', u'amount', u'b1_v', u'b1_p', u'b2_v', u'b2_p',\n",
       "       u'b3_v', u'b3_p', u'b4_v', u'b4_p', u'b5_v', u'b5_p', u'a1_v', u'a1_p',\n",
       "       u'a2_v', u'a2_p', u'a3_v', u'a3_p', u'a4_v', u'a4_p', u'a5_v', u'a5_p',\n",
       "       u'date', u'time', u'code'],\n",
       "      dtype='object')"
      ]
     },
     "execution_count": 73,
     "metadata": {},
     "output_type": "execute_result"
    }
   ],
   "source": [
    "df.columns"
   ]
  },
  {
   "cell_type": "code",
   "execution_count": 71,
   "metadata": {
    "collapsed": false
   },
   "outputs": [
    {
     "data": {
      "text/html": [
       "<div>\n",
       "<table border=\"1\" class=\"dataframe\">\n",
       "  <thead>\n",
       "    <tr style=\"text-align: right;\">\n",
       "      <th></th>\n",
       "      <th>open</th>\n",
       "      <th>high</th>\n",
       "      <th>close</th>\n",
       "      <th>low</th>\n",
       "      <th>volume</th>\n",
       "      <th>amount</th>\n",
       "    </tr>\n",
       "    <tr>\n",
       "      <th>date</th>\n",
       "      <th></th>\n",
       "      <th></th>\n",
       "      <th></th>\n",
       "      <th></th>\n",
       "      <th></th>\n",
       "      <th></th>\n",
       "    </tr>\n",
       "  </thead>\n",
       "  <tbody>\n",
       "    <tr>\n",
       "      <th>2015-11-03</th>\n",
       "      <td>6.6</td>\n",
       "      <td>6.75</td>\n",
       "      <td>6.58</td>\n",
       "      <td>6.50</td>\n",
       "      <td>14395031</td>\n",
       "      <td>95081248</td>\n",
       "    </tr>\n",
       "    <tr>\n",
       "      <th>2015-11-02</th>\n",
       "      <td>6.7</td>\n",
       "      <td>6.85</td>\n",
       "      <td>6.58</td>\n",
       "      <td>6.57</td>\n",
       "      <td>13664205</td>\n",
       "      <td>91058408</td>\n",
       "    </tr>\n",
       "  </tbody>\n",
       "</table>\n",
       "</div>"
      ],
      "text/plain": [
       "            open  high  close   low    volume    amount\n",
       "date                                                   \n",
       "2015-11-03   6.6  6.75   6.58  6.50  14395031  95081248\n",
       "2015-11-02   6.7  6.85   6.58  6.57  13664205  91058408"
      ]
     },
     "execution_count": 71,
     "metadata": {},
     "output_type": "execute_result"
    }
   ],
   "source": [
    "#df1 = pd.concat([df1,df2])\n",
    "#df1.concat(df2)\n",
    "df2.set_index('open')\n",
    "df2"
   ]
  },
  {
   "cell_type": "code",
   "execution_count": 28,
   "metadata": {
    "collapsed": false
   },
   "outputs": [],
   "source": [
    "basics = basics.drop(\"update_time\",axis=1)"
   ]
  },
  {
   "cell_type": "code",
   "execution_count": 20,
   "metadata": {
    "collapsed": false
   },
   "outputs": [
    {
     "name": "stdout",
     "output_type": "stream",
     "text": [
      "[Getting data:]####"
     ]
    },
    {
     "data": {
      "text/html": [
       "<div>\n",
       "<table border=\"1\" class=\"dataframe\">\n",
       "  <thead>\n",
       "    <tr style=\"text-align: right;\">\n",
       "      <th></th>\n",
       "      <th>open</th>\n",
       "      <th>high</th>\n",
       "      <th>close</th>\n",
       "      <th>low</th>\n",
       "      <th>volume</th>\n",
       "      <th>amount</th>\n",
       "    </tr>\n",
       "    <tr>\n",
       "      <th>date</th>\n",
       "      <th></th>\n",
       "      <th></th>\n",
       "      <th></th>\n",
       "      <th></th>\n",
       "      <th></th>\n",
       "      <th></th>\n",
       "    </tr>\n",
       "  </thead>\n",
       "  <tbody>\n",
       "    <tr>\n",
       "      <th>2015-09-30</th>\n",
       "      <td>11.20</td>\n",
       "      <td>11.44</td>\n",
       "      <td>11.23</td>\n",
       "      <td>11.05</td>\n",
       "      <td>30891062</td>\n",
       "      <td>346557344</td>\n",
       "    </tr>\n",
       "    <tr>\n",
       "      <th>2015-09-29</th>\n",
       "      <td>11.30</td>\n",
       "      <td>11.39</td>\n",
       "      <td>11.07</td>\n",
       "      <td>11.00</td>\n",
       "      <td>32921716</td>\n",
       "      <td>367696416</td>\n",
       "    </tr>\n",
       "    <tr>\n",
       "      <th>2015-09-28</th>\n",
       "      <td>11.59</td>\n",
       "      <td>11.69</td>\n",
       "      <td>11.51</td>\n",
       "      <td>11.31</td>\n",
       "      <td>29705536</td>\n",
       "      <td>341980576</td>\n",
       "    </tr>\n",
       "    <tr>\n",
       "      <th>2015-09-25</th>\n",
       "      <td>11.93</td>\n",
       "      <td>12.01</td>\n",
       "      <td>11.41</td>\n",
       "      <td>11.27</td>\n",
       "      <td>50924896</td>\n",
       "      <td>592532928</td>\n",
       "    </tr>\n",
       "    <tr>\n",
       "      <th>2015-09-24</th>\n",
       "      <td>12.00</td>\n",
       "      <td>12.15</td>\n",
       "      <td>12.04</td>\n",
       "      <td>11.76</td>\n",
       "      <td>54467984</td>\n",
       "      <td>650279936</td>\n",
       "    </tr>\n",
       "  </tbody>\n",
       "</table>\n",
       "</div>"
      ],
      "text/plain": [
       "             open   high  close    low    volume     amount\n",
       "date                                                       \n",
       "2015-09-30  11.20  11.44  11.23  11.05  30891062  346557344\n",
       "2015-09-29  11.30  11.39  11.07  11.00  32921716  367696416\n",
       "2015-09-28  11.59  11.69  11.51  11.31  29705536  341980576\n",
       "2015-09-25  11.93  12.01  11.41  11.27  50924896  592532928\n",
       "2015-09-24  12.00  12.15  12.04  11.76  54467984  650279936"
      ]
     },
     "execution_count": 20,
     "metadata": {},
     "output_type": "execute_result"
    }
   ],
   "source": [
    "ts.get_h_data('601727',autype='qfq').head()"
   ]
  },
  {
   "cell_type": "code",
   "execution_count": 11,
   "metadata": {
    "collapsed": false,
    "scrolled": true
   },
   "outputs": [
    {
     "name": "stdout",
     "output_type": "stream",
     "text": [
      "[Getting data:]####"
     ]
    },
    {
     "data": {
      "text/plain": [
       "(             open   high  close    low    volume     amount\n",
       " date                                                       \n",
       " 2015-11-19  55.54  55.87  55.78  54.25  15496610  105713512\n",
       " 2015-11-18  54.81  57.73  55.54  54.41  24518024  170261808\n",
       " 2015-11-17  56.51  57.24  54.81  54.25  23553730  162970064\n",
       " 2015-11-16  53.93  55.87  55.70  53.60  15183944  102734400\n",
       " 2015-11-13  56.59  56.92  55.06  53.93  28491562  195333488,\n",
       "             open  high  close   low     volume  price_change  p_change    ma5  \\\n",
       " date                                                                            \n",
       " 2015-11-13  7.00  7.04   6.82  6.67  284915.62         -0.31     -4.35  7.162   \n",
       " 2015-11-16  6.67  6.91   6.88  6.63  151839.44          0.07      1.03  7.102   \n",
       " 2015-11-17  6.99  7.08   6.79  6.71  235537.30         -0.10     -1.45  6.992   \n",
       " 2015-11-18  6.78  7.14   6.88  6.73  245180.23          0.10      1.48  6.898   \n",
       " 2015-11-19  6.87  6.91   6.90  6.71  154966.09          0.03      0.44  6.854   \n",
       " \n",
       "              ma10   ma20      v_ma5     v_ma10     v_ma20  turnover  \n",
       " date                                                                 \n",
       " 2015-11-13  6.999  6.952  298855.33  248408.28  289273.85      2.61  \n",
       " 2015-11-16  7.030  6.973  285167.65  249928.02  279241.10      1.39  \n",
       " 2015-11-17  7.052  6.967  274435.10  259086.72  267078.04      2.16  \n",
       " 2015-11-18  7.041  6.999  266778.17  261001.55  261140.28      2.25  \n",
       " 2015-11-19  7.035  7.001  214487.74  251423.17  251681.04      1.42  )"
      ]
     },
     "execution_count": 11,
     "metadata": {},
     "output_type": "execute_result"
    }
   ],
   "source": [
    "ts.get_h_data('600077',autype='hfq').head(), ts.get_hist_data('600077').tail()"
   ]
  },
  {
   "cell_type": "code",
   "execution_count": 65,
   "metadata": {
    "collapsed": true
   },
   "outputs": [],
   "source": [
    "test_code='600077'"
   ]
  },
  {
   "cell_type": "code",
   "execution_count": 66,
   "metadata": {
    "collapsed": false
   },
   "outputs": [],
   "source": [
    "test_fq_factor = ts.stock.trading._parase_fq_factor(test_code,'2015-01-01','2015-11-15').set_index('date').sort_index(ascending=False)"
   ]
  },
  {
   "cell_type": "code",
   "execution_count": 67,
   "metadata": {
    "collapsed": false
   },
   "outputs": [
    {
     "data": {
      "text/html": [
       "<div>\n",
       "<table border=\"1\" class=\"dataframe\">\n",
       "  <thead>\n",
       "    <tr style=\"text-align: right;\">\n",
       "      <th></th>\n",
       "      <th>factor</th>\n",
       "    </tr>\n",
       "    <tr>\n",
       "      <th>date</th>\n",
       "      <th></th>\n",
       "    </tr>\n",
       "  </thead>\n",
       "  <tbody>\n",
       "    <tr>\n",
       "      <th>2015-11-20</th>\n",
       "      <td>56.2702</td>\n",
       "    </tr>\n",
       "    <tr>\n",
       "      <th>2015-11-19</th>\n",
       "      <td>55.7851</td>\n",
       "    </tr>\n",
       "    <tr>\n",
       "      <th>2015-11-18</th>\n",
       "      <td>55.5425</td>\n",
       "    </tr>\n",
       "    <tr>\n",
       "      <th>2015-11-17</th>\n",
       "      <td>54.8149</td>\n",
       "    </tr>\n",
       "    <tr>\n",
       "      <th>2015-11-16</th>\n",
       "      <td>55.7043</td>\n",
       "    </tr>\n",
       "  </tbody>\n",
       "</table>\n",
       "</div>"
      ],
      "text/plain": [
       "             factor\n",
       "date               \n",
       "2015-11-20  56.2702\n",
       "2015-11-19  55.7851\n",
       "2015-11-18  55.5425\n",
       "2015-11-17  54.8149\n",
       "2015-11-16  55.7043"
      ]
     },
     "execution_count": 67,
     "metadata": {},
     "output_type": "execute_result"
    }
   ],
   "source": [
    "test_fq_factor.head()"
   ]
  },
  {
   "cell_type": "code",
   "execution_count": null,
   "metadata": {
    "collapsed": true
   },
   "outputs": [],
   "source": []
  }
 ],
 "metadata": {
  "kernelspec": {
   "display_name": "Python 2",
   "language": "python",
   "name": "python2"
  },
  "language_info": {
   "codemirror_mode": {
    "name": "ipython",
    "version": 2
   },
   "file_extension": ".py",
   "mimetype": "text/x-python",
   "name": "python",
   "nbconvert_exporter": "python",
   "pygments_lexer": "ipython2",
   "version": "2.7.10"
  }
 },
 "nbformat": 4,
 "nbformat_minor": 0
}
